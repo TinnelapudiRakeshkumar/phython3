{
  "nbformat": 4,
  "nbformat_minor": 0,
  "metadata": {
    "colab": {
      "name": "Exception Handling and functions.ipynb",
      "provenance": [],
      "collapsed_sections": []
    },
    "kernelspec": {
      "name": "python3",
      "display_name": "Python 3"
    }
  },
  "cells": [
    {
      "cell_type": "code",
      "metadata": {
        "id": "RPn4eN7QSWcS",
        "colab_type": "code",
        "colab": {
          "base_uri": "https://localhost:8080/",
          "height": 34
        },
        "outputId": "2dfa9612-6a03-417a-e494-360f8f7e717c"
      },
      "source": [
        "name='jose'\n",
        "print('Hello',name)"
      ],
      "execution_count": null,
      "outputs": [
        {
          "output_type": "stream",
          "text": [
            "Hello jose\n"
          ],
          "name": "stdout"
        }
      ]
    },
    {
      "cell_type": "code",
      "metadata": {
        "id": "IPZnN60yxVFy",
        "colab_type": "code",
        "colab": {}
      },
      "source": [
        "def sample(name):\n",
        "  print(\"hello\",name)"
      ],
      "execution_count": null,
      "outputs": []
    },
    {
      "cell_type": "code",
      "metadata": {
        "id": "Xr9z3kDOx3sQ",
        "colab_type": "code",
        "colab": {
          "base_uri": "https://localhost:8080/",
          "height": 34
        },
        "outputId": "ebbedb93-02bb-49fe-b54b-92d3fbc03c18"
      },
      "source": [
        "ascii(\"a\")\n"
      ],
      "execution_count": null,
      "outputs": [
        {
          "output_type": "execute_result",
          "data": {
            "text/plain": [
              "\"'a'\""
            ]
          },
          "metadata": {
            "tags": []
          },
          "execution_count": 6
        }
      ]
    },
    {
      "cell_type": "code",
      "metadata": {
        "id": "n9jE5r2Q5pug",
        "colab_type": "code",
        "colab": {
          "base_uri": "https://localhost:8080/",
          "height": 34
        },
        "outputId": "657599b2-7328-4b45-c21c-af919be3a393"
      },
      "source": [
        "chr(65)"
      ],
      "execution_count": null,
      "outputs": [
        {
          "output_type": "execute_result",
          "data": {
            "text/plain": [
              "'A'"
            ]
          },
          "metadata": {
            "tags": []
          },
          "execution_count": 7
        }
      ]
    },
    {
      "cell_type": "code",
      "metadata": {
        "id": "jraxPl946SkO",
        "colab_type": "code",
        "colab": {
          "base_uri": "https://localhost:8080/",
          "height": 34
        },
        "outputId": "ad1fa093-2aa5-4e10-840f-33de7ed4f433"
      },
      "source": [
        "oct(8)\n"
      ],
      "execution_count": null,
      "outputs": [
        {
          "output_type": "execute_result",
          "data": {
            "text/plain": [
              "'0o10'"
            ]
          },
          "metadata": {
            "tags": []
          },
          "execution_count": 8
        }
      ]
    },
    {
      "cell_type": "code",
      "metadata": {
        "id": "FC-0mjPv7UNH",
        "colab_type": "code",
        "colab": {}
      },
      "source": [
        "def par(*x1):\n",
        "  print(sum(x1))\n",
        "  print(len(x1))\n",
        "  print(type(x1))\n",
        "  \n"
      ],
      "execution_count": null,
      "outputs": []
    },
    {
      "cell_type": "code",
      "metadata": {
        "id": "mvPFttRX4Bey",
        "colab_type": "code",
        "colab": {
          "base_uri": "https://localhost:8080/",
          "height": 68
        },
        "outputId": "7bd37c00-e633-4c3a-fadc-a5aedf39e5a4"
      },
      "source": [
        "par(1,2,3)"
      ],
      "execution_count": null,
      "outputs": [
        {
          "output_type": "stream",
          "text": [
            "6\n",
            "3\n",
            "<class 'tuple'>\n"
          ],
          "name": "stdout"
        }
      ]
    },
    {
      "cell_type": "code",
      "metadata": {
        "id": "XuzfshNt4WVb",
        "colab_type": "code",
        "colab": {
          "base_uri": "https://localhost:8080/",
          "height": 34
        },
        "outputId": "cd67be75-bbfa-4a93-aa11-10abe24badc4"
      },
      "source": [
        "import math\n",
        "r=math.sqrt(25)\n",
        "s=math.factorial(4)\n",
        "print(r,s)\n"
      ],
      "execution_count": null,
      "outputs": [
        {
          "output_type": "stream",
          "text": [
            "5.0 24\n"
          ],
          "name": "stdout"
        }
      ]
    },
    {
      "cell_type": "code",
      "metadata": {
        "id": "WOz39nDXHFJS",
        "colab_type": "code",
        "colab": {
          "base_uri": "https://localhost:8080/",
          "height": 68
        },
        "outputId": "ac2974c8-36a0-4ec3-e302-3a91878b6fe2"
      },
      "source": [
        "import random\n",
        "print (random.shuffle([1, 4, 8, 10, 3])) \n",
        "print (random.randrange(20, 50, 3))\n",
        "print(random.random())"
      ],
      "execution_count": null,
      "outputs": [
        {
          "output_type": "stream",
          "text": [
            "None\n",
            "41\n",
            "0.17351146446036958\n"
          ],
          "name": "stdout"
        }
      ]
    },
    {
      "cell_type": "code",
      "metadata": {
        "id": "hZCVuzU_LDk4",
        "colab_type": "code",
        "colab": {}
      },
      "source": [
        "import math\n",
        "def fact(n=1):\n",
        "  f=math.factorial(n)\n",
        "  print(f)"
      ],
      "execution_count": null,
      "outputs": []
    },
    {
      "cell_type": "code",
      "metadata": {
        "id": "LikfKpUtRMF2",
        "colab_type": "code",
        "colab": {
          "base_uri": "https://localhost:8080/",
          "height": 34
        },
        "outputId": "0af2c306-9159-4414-8abe-90ecc9c5d2c4"
      },
      "source": [
        "fact(5)"
      ],
      "execution_count": null,
      "outputs": [
        {
          "output_type": "stream",
          "text": [
            "120\n"
          ],
          "name": "stdout"
        }
      ]
    },
    {
      "cell_type": "code",
      "metadata": {
        "id": "PL5iZs6Mxvyn",
        "colab_type": "code",
        "colab": {
          "base_uri": "https://localhost:8080/",
          "height": 34
        },
        "outputId": "8c48349d-27bc-4b50-fd90-a9b964989dd7"
      },
      "source": [
        "s1=\"hello good morning\"\n",
        "print(s1[-1::-1])"
      ],
      "execution_count": null,
      "outputs": [
        {
          "output_type": "stream",
          "text": [
            "gninrom doog olleh\n"
          ],
          "name": "stdout"
        }
      ]
    },
    {
      "cell_type": "code",
      "metadata": {
        "id": "0etQSXH36Wol",
        "colab_type": "code",
        "colab": {
          "base_uri": "https://localhost:8080/",
          "height": 85
        },
        "outputId": "acde3992-305c-4ac4-941a-2e23c6f6d51f"
      },
      "source": [
        "import math\n",
        "\n",
        "a = int(input(\"Please Enter a Value of a Quadratic Equation : \"))\n",
        "b = int(input(\"Please Enter b Value of a Quadratic Equation : \"))\n",
        "c = int(input(\"Please Enter c Value of a Quadratic Equation : \"))\n",
        "\n",
        "discriminant = (b * b) - (4 * a * c)\n",
        "\n",
        "if(discriminant > 0):\n",
        "    root1 = (-b + math.sqrt(discriminant) / (2 * a))\n",
        "    root2 = (-b - math.sqrt(discriminant) / (2 * a))\n",
        "    print(\"Two Distinct Real Roots Exists: root1=\",root1,\"root2=\",root2)\n",
        "elif(discriminant == 0):\n",
        "    root1 = root2 = -b / (2 * a)\n",
        "    print(\"Two Equal and Real Roots Exists: root1 = %.2f and root2 = %.2f\" %(root1, root2))\n",
        "elif(discriminant < 0):\n",
        "    root1 = root2 = -b / (2 * a)\n",
        "    imaginary = math.sqrt(-discriminant) / (2 * a)\n",
        "    print(\"Two Distinct Complex Roots Exists: root1 = %.2f+%.2f and root2 = %.2f-%.2f\" %(root1, imaginary, root2, imaginary))\n",
        "\n"
      ],
      "execution_count": null,
      "outputs": [
        {
          "output_type": "stream",
          "text": [
            "Please Enter a Value of a Quadratic Equation : 1\n",
            "Please Enter b Value of a Quadratic Equation : 3\n",
            "Please Enter c Value of a Quadratic Equation : 2\n",
            "Two Distinct Real Roots Exists: root1= -2.5 root2= -3.5\n"
          ],
          "name": "stdout"
        }
      ]
    },
    {
      "cell_type": "code",
      "metadata": {
        "id": "5FcWJoLg9Zcn",
        "colab_type": "code",
        "colab": {
          "base_uri": "https://localhost:8080/",
          "height": 51
        },
        "outputId": "7b5b3b32-0b8a-4159-f63e-be2bb8f690a1"
      },
      "source": [
        "s1=\"good evening\"\n",
        "print(s1[0::1])\n",
        "print(s1[-1::-1])"
      ],
      "execution_count": null,
      "outputs": [
        {
          "output_type": "stream",
          "text": [
            "good evening\n",
            "gnineve doog\n"
          ],
          "name": "stdout"
        }
      ]
    },
    {
      "cell_type": "code",
      "metadata": {
        "id": "p-c0Ug-tGou0",
        "colab_type": "code",
        "colab": {
          "base_uri": "https://localhost:8080/",
          "height": 85
        },
        "outputId": "46f3f3b0-391b-49f1-9aeb-34cf4e590b58"
      },
      "source": [
        "#Exception Handling\n",
        "try:\n",
        "  a=int(input(\"enter a:\"))\n",
        "  b=int(input(\"Enter b\"))\n",
        "  c=a/b\n",
        "  print(\"a//b=\",c)\n",
        "except ArithmeticError:\n",
        "  print(\"cant divide by zero\")\n",
        "else:\n",
        "  print(\"hi I am else block\")\n",
        "finally:\n",
        "  print(\"Finally Block\")"
      ],
      "execution_count": null,
      "outputs": [
        {
          "output_type": "stream",
          "text": [
            "enter a:4\n",
            "Enter b0\n",
            "cant divide by zero\n",
            "Finally Block\n"
          ],
          "name": "stdout"
        }
      ]
    },
    {
      "cell_type": "code",
      "metadata": {
        "id": "vWbjm7GyJEEZ",
        "colab_type": "code",
        "colab": {
          "base_uri": "https://localhost:8080/",
          "height": 34
        },
        "outputId": "20b6438c-3b7f-405c-fb70-336441c8628a"
      },
      "source": [
        "try:\n",
        "  print(h)\n",
        "except:\n",
        "  print(\"variable is not defind\")"
      ],
      "execution_count": null,
      "outputs": [
        {
          "output_type": "stream",
          "text": [
            "variable is not defind\n"
          ],
          "name": "stdout"
        }
      ]
    },
    {
      "cell_type": "code",
      "metadata": {
        "id": "nEZUVreAJ443",
        "colab_type": "code",
        "colab": {
          "base_uri": "https://localhost:8080/",
          "height": 180
        },
        "outputId": "b849d66f-3369-48d8-9fef-b200df32bd2a"
      },
      "source": [
        "a=float(input(\"enter value for a\"))"
      ],
      "execution_count": null,
      "outputs": [
        {
          "output_type": "stream",
          "text": [
            "enter value for aasd\n"
          ],
          "name": "stdout"
        },
        {
          "output_type": "error",
          "ename": "ValueError",
          "evalue": "ignored",
          "traceback": [
            "\u001b[0;31m---------------------------------------------------------------------------\u001b[0m",
            "\u001b[0;31mValueError\u001b[0m                                Traceback (most recent call last)",
            "\u001b[0;32m<ipython-input-42-cf5b91a39bfa>\u001b[0m in \u001b[0;36m<module>\u001b[0;34m()\u001b[0m\n\u001b[0;32m----> 1\u001b[0;31m \u001b[0ma\u001b[0m\u001b[0;34m=\u001b[0m\u001b[0mfloat\u001b[0m\u001b[0;34m(\u001b[0m\u001b[0minput\u001b[0m\u001b[0;34m(\u001b[0m\u001b[0;34m\"enter value for a\"\u001b[0m\u001b[0;34m)\u001b[0m\u001b[0;34m)\u001b[0m\u001b[0;34m\u001b[0m\u001b[0;34m\u001b[0m\u001b[0m\n\u001b[0m",
            "\u001b[0;31mValueError\u001b[0m: could not convert string to float: 'asd'"
          ]
        }
      ]
    },
    {
      "cell_type": "code",
      "metadata": {
        "id": "_D4Z3XKfLPe0",
        "colab_type": "code",
        "colab": {
          "base_uri": "https://localhost:8080/",
          "height": 34
        },
        "outputId": "812adfb3-66ec-4668-88d0-c65837935925"
      },
      "source": [
        "#Short circuit evaluation of logical Expressions\n",
        "x=3\n",
        "y=2\n",
        "(x/y)>2 and x>=2\n"
      ],
      "execution_count": null,
      "outputs": [
        {
          "output_type": "execute_result",
          "data": {
            "text/plain": [
              "False"
            ]
          },
          "metadata": {
            "tags": []
          },
          "execution_count": 43
        }
      ]
    },
    {
      "cell_type": "code",
      "metadata": {
        "id": "-9JaKmaUMZyd",
        "colab_type": "code",
        "colab": {
          "base_uri": "https://localhost:8080/",
          "height": 34
        },
        "outputId": "d93471eb-f9a1-4d1f-e651-f5ab925ea211"
      },
      "source": [
        "x=3\n",
        "y=2\n",
        "x>=2 or x/y>2\n"
      ],
      "execution_count": null,
      "outputs": [
        {
          "output_type": "execute_result",
          "data": {
            "text/plain": [
              "True"
            ]
          },
          "metadata": {
            "tags": []
          },
          "execution_count": 44
        }
      ]
    },
    {
      "cell_type": "code",
      "metadata": {
        "id": "2_jHkWh-Nco4",
        "colab_type": "code",
        "colab": {
          "base_uri": "https://localhost:8080/",
          "height": 51
        },
        "outputId": "c7259eb4-da22-4372-c968-828a5e0fe746"
      },
      "source": [
        "# function call-functionname(args)\n",
        "print(\"built in function\")\n",
        "type(2)\n",
        "input(\"enter a value\")"
      ],
      "execution_count": null,
      "outputs": [
        {
          "output_type": "stream",
          "text": [
            "built in function\n"
          ],
          "name": "stdout"
        },
        {
          "output_type": "execute_result",
          "data": {
            "text/plain": [
              "int"
            ]
          },
          "metadata": {
            "tags": []
          },
          "execution_count": 46
        }
      ]
    },
    {
      "cell_type": "code",
      "metadata": {
        "id": "kHis70z1OHax",
        "colab_type": "code",
        "colab": {
          "base_uri": "https://localhost:8080/",
          "height": 34
        },
        "outputId": "7c9f22c6-fddd-4366-d096-3b3e003b551b"
      },
      "source": [
        "#type conversion built in functions-int(),float(),complex(),bool(),str(),tuple(),set(),dict(),list()\n",
        "a=1.3\n",
        "b=int(a)\n",
        "print(b)"
      ],
      "execution_count": null,
      "outputs": [
        {
          "output_type": "stream",
          "text": [
            "1\n"
          ],
          "name": "stdout"
        }
      ]
    },
    {
      "cell_type": "code",
      "metadata": {
        "id": "ZST6330EPL2-",
        "colab_type": "code",
        "colab": {
          "base_uri": "https://localhost:8080/",
          "height": 34
        },
        "outputId": "1db8ba27-b07c-489c-eef8-a36776023e15"
      },
      "source": [
        "a=1\n",
        "b=float(a)\n",
        "print(b)"
      ],
      "execution_count": null,
      "outputs": [
        {
          "output_type": "stream",
          "text": [
            "1.0\n"
          ],
          "name": "stdout"
        }
      ]
    },
    {
      "cell_type": "code",
      "metadata": {
        "id": "8bN5fZ7YPe45",
        "colab_type": "code",
        "colab": {
          "base_uri": "https://localhost:8080/",
          "height": 51
        },
        "outputId": "b875152a-45c7-4861-af0a-3d0b0e5f6021"
      },
      "source": [
        "a=10\n",
        "b=str(a)\n",
        "print(a,type(a))\n",
        "print(b,type(b))"
      ],
      "execution_count": null,
      "outputs": [
        {
          "output_type": "stream",
          "text": [
            "10 <class 'int'>\n",
            "10 <class 'str'>\n"
          ],
          "name": "stdout"
        }
      ]
    },
    {
      "cell_type": "code",
      "metadata": {
        "id": "w63NDCGtQI8_",
        "colab_type": "code",
        "colab": {
          "base_uri": "https://localhost:8080/",
          "height": 34
        },
        "outputId": "445ada06-b9aa-42e9-c72c-50ea807e2513"
      },
      "source": [
        "#Mathematical functions-import math\n",
        "x=min(5,10,25)\n",
        "y=max(5,10,25)\n",
        "print(x,y)"
      ],
      "execution_count": null,
      "outputs": [
        {
          "output_type": "stream",
          "text": [
            "5 25\n"
          ],
          "name": "stdout"
        }
      ]
    },
    {
      "cell_type": "code",
      "metadata": {
        "id": "QMpzp12zUVnF",
        "colab_type": "code",
        "colab": {
          "base_uri": "https://localhost:8080/",
          "height": 119
        },
        "outputId": "9d6dff67-6be2-4f7a-fd7c-b50d14f4e08c"
      },
      "source": [
        "import math\n",
        "x=abs(-7.25)\n",
        "print(x)\n",
        "y=math.pow(4,3)\n",
        "print(y)\n",
        "s=math.sqrt(64)\n",
        "print(s)\n",
        "d=math.ceil(1.4)\n",
        "e=math.floor(1.4)\n",
        "print(d,e,sep=\"\\n\")\n",
        "f=math.cos(math.pi)\n",
        "print(f)"
      ],
      "execution_count": null,
      "outputs": [
        {
          "output_type": "stream",
          "text": [
            "7.25\n",
            "64.0\n",
            "8.0\n",
            "2\n",
            "1\n",
            "-1.0\n"
          ],
          "name": "stdout"
        }
      ]
    },
    {
      "cell_type": "code",
      "metadata": {
        "id": "Jb_fkBCqW7-V",
        "colab_type": "code",
        "colab": {
          "base_uri": "https://localhost:8080/",
          "height": 102
        },
        "outputId": "37775119-0647-47d3-bec4-2f16758a6c2b"
      },
      "source": [
        "#Random Number -choice(),randrange(),random()\n",
        "import random\n",
        "print(\"A random from list is\")\n",
        "print(random.choice([1,4,8,10,3]))\n",
        "print(random.randrange(20,50,3))\n",
        "print(random.random())\n",
        "print(random.randint(2,5))\n"
      ],
      "execution_count": null,
      "outputs": [
        {
          "output_type": "stream",
          "text": [
            "A random from list is\n",
            "1\n",
            "29\n",
            "0.9378527454706304\n",
            "4\n"
          ],
          "name": "stdout"
        }
      ]
    },
    {
      "cell_type": "code",
      "metadata": {
        "id": "6twxi3eqZq57",
        "colab_type": "code",
        "colab": {}
      },
      "source": [
        "def add():\n",
        "  sum=2+3\n",
        "  print(sum)"
      ],
      "execution_count": null,
      "outputs": []
    },
    {
      "cell_type": "code",
      "metadata": {
        "id": "WtwgV2Sca5pI",
        "colab_type": "code",
        "colab": {
          "base_uri": "https://localhost:8080/",
          "height": 34
        },
        "outputId": "7b886ae0-c6f4-4c34-848e-13046a95bde2"
      },
      "source": [
        "add()"
      ],
      "execution_count": null,
      "outputs": [
        {
          "output_type": "stream",
          "text": [
            "5\n"
          ],
          "name": "stdout"
        }
      ]
    },
    {
      "cell_type": "code",
      "metadata": {
        "id": "2k5KD9NifCfz",
        "colab_type": "code",
        "colab": {}
      },
      "source": [
        "#user defined functions-function defintion\n",
        "def say_hello():\n",
        "  print(\"hello\")"
      ],
      "execution_count": null,
      "outputs": []
    },
    {
      "cell_type": "code",
      "metadata": {
        "id": "bcagNI8boC0m",
        "colab_type": "code",
        "colab": {}
      },
      "source": [
        "#function call\n",
        "say_hello()"
      ],
      "execution_count": null,
      "outputs": []
    },
    {
      "cell_type": "code",
      "metadata": {
        "id": "q4ZgAXi8oWb4",
        "colab_type": "code",
        "colab": {}
      },
      "source": [
        "#with parameters without return type,\n",
        "#with parameters with return type\n",
        "#without parameters with return type\n",
        "#without parameters without returntype\n",
        "def greeting(name):\n",
        "  print(\"hello\",name)"
      ],
      "execution_count": null,
      "outputs": []
    },
    {
      "cell_type": "code",
      "metadata": {
        "id": "HoTuW8zRpN0Z",
        "colab_type": "code",
        "colab": {
          "base_uri": "https://localhost:8080/",
          "height": 51
        },
        "outputId": "63436476-870e-4430-94cb-92146441f2d1"
      },
      "source": [
        "n=input(\"enter your name\")\n",
        "greeting(n)\n"
      ],
      "execution_count": null,
      "outputs": [
        {
          "output_type": "stream",
          "text": [
            "enter your namegood morning\n",
            "hello good morning\n"
          ],
          "name": "stdout"
        }
      ]
    },
    {
      "cell_type": "code",
      "metadata": {
        "id": "y5DOvgfNqBmN",
        "colab_type": "code",
        "colab": {}
      },
      "source": [
        "def add_num(num1,num2):\n",
        "  return num1+num2"
      ],
      "execution_count": null,
      "outputs": []
    },
    {
      "cell_type": "code",
      "metadata": {
        "id": "7vuew-biqrw7",
        "colab_type": "code",
        "colab": {
          "base_uri": "https://localhost:8080/",
          "height": 34
        },
        "outputId": "421ee255-819f-4d6d-e466-b69321558704"
      },
      "source": [
        "s=add_num(4,5)\n",
        "print(s)"
      ],
      "execution_count": null,
      "outputs": [
        {
          "output_type": "stream",
          "text": [
            "9\n"
          ],
          "name": "stdout"
        }
      ]
    },
    {
      "cell_type": "code",
      "metadata": {
        "id": "afsYNta-qwRf",
        "colab_type": "code",
        "colab": {
          "base_uri": "https://localhost:8080/",
          "height": 34
        },
        "outputId": "3050e15f-d125-4c68-c061-0249be09f946"
      },
      "source": [
        "s=add_num(\"one\",\"two\")\n",
        "print(s)"
      ],
      "execution_count": null,
      "outputs": [
        {
          "output_type": "stream",
          "text": [
            "onetwo\n"
          ],
          "name": "stdout"
        }
      ]
    },
    {
      "cell_type": "code",
      "metadata": {
        "id": "HRxDLXFhrl9M",
        "colab_type": "code",
        "colab": {
          "base_uri": "https://localhost:8080/",
          "height": 180
        },
        "outputId": "83e320a1-3214-472c-b86d-1e7fabe7b76a"
      },
      "source": [
        "#No of parameters and arguments should be same else it leads to error\n",
        "s=add_num(3.5)\n",
        "print(s)"
      ],
      "execution_count": null,
      "outputs": [
        {
          "output_type": "error",
          "ename": "TypeError",
          "evalue": "ignored",
          "traceback": [
            "\u001b[0;31m---------------------------------------------------------------------------\u001b[0m",
            "\u001b[0;31mTypeError\u001b[0m                                 Traceback (most recent call last)",
            "\u001b[0;32m<ipython-input-100-fa91ab70c53f>\u001b[0m in \u001b[0;36m<module>\u001b[0;34m()\u001b[0m\n\u001b[0;32m----> 1\u001b[0;31m \u001b[0ms\u001b[0m\u001b[0;34m=\u001b[0m\u001b[0madd_num\u001b[0m\u001b[0;34m(\u001b[0m\u001b[0;36m3.5\u001b[0m\u001b[0;34m)\u001b[0m\u001b[0;34m\u001b[0m\u001b[0;34m\u001b[0m\u001b[0m\n\u001b[0m\u001b[1;32m      2\u001b[0m \u001b[0mprint\u001b[0m\u001b[0;34m(\u001b[0m\u001b[0ms\u001b[0m\u001b[0;34m)\u001b[0m\u001b[0;34m\u001b[0m\u001b[0;34m\u001b[0m\u001b[0m\n",
            "\u001b[0;31mTypeError\u001b[0m: add_num() missing 1 required positional argument: 'num2'"
          ]
        }
      ]
    },
    {
      "cell_type": "code",
      "metadata": {
        "id": "ob1OODlEu2nP",
        "colab_type": "code",
        "colab": {}
      },
      "source": [
        "#with parameters and with return type\n",
        "def evod(n):\n",
        "  if(n%2==0):\n",
        "    return 'even'\n",
        "  else:\n",
        "    return 'odd'"
      ],
      "execution_count": null,
      "outputs": []
    },
    {
      "cell_type": "code",
      "metadata": {
        "id": "Asdup1jvwkC0",
        "colab_type": "code",
        "colab": {
          "base_uri": "https://localhost:8080/",
          "height": 51
        },
        "outputId": "db41c030-d804-41c7-aec1-29fc26c6b745"
      },
      "source": [
        "x=int(input(\"enter a value for x\"))\n",
        "evod(x)"
      ],
      "execution_count": null,
      "outputs": [
        {
          "output_type": "stream",
          "text": [
            "enter a value for x9\n"
          ],
          "name": "stdout"
        },
        {
          "output_type": "execute_result",
          "data": {
            "text/plain": [
              "'odd'"
            ]
          },
          "metadata": {
            "tags": []
          },
          "execution_count": 83
        }
      ]
    },
    {
      "cell_type": "code",
      "metadata": {
        "id": "Lhb3XGHuw1j0",
        "colab_type": "code",
        "colab": {}
      },
      "source": [
        "#with parameters and without return type\n",
        "def evod1(n):\n",
        "  if (n%2==0):\n",
        "    print(\"given num is even\")\n",
        "  else:\n",
        "    print(\"given num is odd\")"
      ],
      "execution_count": null,
      "outputs": []
    },
    {
      "cell_type": "code",
      "metadata": {
        "id": "-_VxO4lkzIKT",
        "colab_type": "code",
        "colab": {
          "base_uri": "https://localhost:8080/",
          "height": 51
        },
        "outputId": "7410870f-948c-4419-cec8-db24bab98657"
      },
      "source": [
        "x=int(input(\"enter a value for x\"))\n",
        "evod1(x)"
      ],
      "execution_count": null,
      "outputs": [
        {
          "output_type": "stream",
          "text": [
            "enter a value for x7\n",
            "given num is odd\n"
          ],
          "name": "stdout"
        }
      ]
    },
    {
      "cell_type": "code",
      "metadata": {
        "id": "gyuNdCJvFFek",
        "colab_type": "code",
        "colab": {}
      },
      "source": [
        "#Without parameters and with returntype\n",
        "def evod2():\n",
        "  n=int(input(\"enter value of a number\"))\n",
        "  if(n%2==0):\n",
        "    return 'even'\n",
        "  else:\n",
        "    return 'odd'"
      ],
      "execution_count": null,
      "outputs": []
    },
    {
      "cell_type": "code",
      "metadata": {
        "id": "HC_FytO4Gm1P",
        "colab_type": "code",
        "colab": {
          "base_uri": "https://localhost:8080/",
          "height": 51
        },
        "outputId": "35080636-ea64-4bc7-d2d1-cef5fbe75da7"
      },
      "source": [
        "evod2()"
      ],
      "execution_count": null,
      "outputs": [
        {
          "output_type": "stream",
          "text": [
            "enter value of a number6\n"
          ],
          "name": "stdout"
        },
        {
          "output_type": "execute_result",
          "data": {
            "text/plain": [
              "'even'"
            ]
          },
          "metadata": {
            "tags": []
          },
          "execution_count": 103
        }
      ]
    },
    {
      "cell_type": "code",
      "metadata": {
        "id": "q6nG_g_ZHICz",
        "colab_type": "code",
        "colab": {}
      },
      "source": [
        "#Without parameters and without returntype\n",
        "def evod3():\n",
        "  n=int(input(\"enter value of a number\"))\n",
        "  if(n%2==0):\n",
        "    print(\"given num is even\")\n",
        "  else:\n",
        "    print(\"given num is odd\")"
      ],
      "execution_count": null,
      "outputs": []
    },
    {
      "cell_type": "code",
      "metadata": {
        "id": "hhZDkiaMHZkP",
        "colab_type": "code",
        "colab": {
          "base_uri": "https://localhost:8080/",
          "height": 51
        },
        "outputId": "8ee0ebb9-223b-40ab-a556-da92356bf584"
      },
      "source": [
        "evod3()"
      ],
      "execution_count": null,
      "outputs": [
        {
          "output_type": "stream",
          "text": [
            "enter value of a number5\n",
            "given num is odd\n"
          ],
          "name": "stdout"
        }
      ]
    },
    {
      "cell_type": "markdown",
      "metadata": {
        "id": "c-7uX9pBP7Jt",
        "colab_type": "text"
      },
      "source": [
        "Note: Functions which return value are fruitful functions which does not return are called void functions"
      ]
    },
    {
      "cell_type": "code",
      "metadata": {
        "id": "cHZnbB_FIT8n",
        "colab_type": "code",
        "colab": {}
      },
      "source": [
        "\n",
        "def argcheck(*x1):\n",
        "  print(\"first element is\", x1[0])\n",
        "  print(\"No of arguments is \",len(x1))\n",
        "  print(type(x1))\n",
        "  t=sorted(x1)\n",
        "  print(\"sorted values\",t)\n"
      ],
      "execution_count": null,
      "outputs": []
    },
    {
      "cell_type": "code",
      "metadata": {
        "id": "5LKkCM0nIrIU",
        "colab_type": "code",
        "colab": {
          "base_uri": "https://localhost:8080/",
          "height": 221
        },
        "outputId": "6d5861b0-ad40-4f76-b6c8-9d9956fd82ae"
      },
      "source": [
        "argcheck(2,8,1,6,4)\n",
        "argcheck(1000)\n",
        "argcheck(65,2,9,1,0)"
      ],
      "execution_count": null,
      "outputs": [
        {
          "output_type": "stream",
          "text": [
            "first element is 2\n",
            "No of arguments is  5\n",
            "<class 'tuple'>\n",
            "sorted values [1, 2, 4, 6, 8]\n",
            "first element is 1000\n",
            "No of arguments is  1\n",
            "<class 'tuple'>\n",
            "sorted values [1000]\n",
            "first element is 65\n",
            "No of arguments is  5\n",
            "<class 'tuple'>\n",
            "sorted values [0, 1, 2, 9, 65]\n"
          ],
          "name": "stdout"
        }
      ]
    },
    {
      "cell_type": "code",
      "metadata": {
        "id": "L30NWtVlOeCu",
        "colab_type": "code",
        "colab": {}
      },
      "source": [
        "#Default Arguments\n",
        "import math\n",
        "def fact(n=1):\n",
        "  f=math.factorial(n)\n",
        "  print(f)\n"
      ],
      "execution_count": null,
      "outputs": []
    },
    {
      "cell_type": "code",
      "metadata": {
        "id": "mmmUBDAbO60g",
        "colab_type": "code",
        "colab": {
          "base_uri": "https://localhost:8080/",
          "height": 51
        },
        "outputId": "716e4a57-15c7-4d6e-93f6-a4a59a46b393"
      },
      "source": [
        "fact(5)\n",
        "fact()"
      ],
      "execution_count": null,
      "outputs": [
        {
          "output_type": "stream",
          "text": [
            "120\n",
            "1\n"
          ],
          "name": "stdout"
        }
      ]
    },
    {
      "cell_type": "code",
      "metadata": {
        "id": "gLzZv3ESFrXJ",
        "colab_type": "code",
        "colab": {}
      },
      "source": [
        "#default arguments example 2\n",
        "def addition(num1,num2=1):\n",
        "  add=num1+num2\n",
        "  return add\n"
      ],
      "execution_count": null,
      "outputs": []
    },
    {
      "cell_type": "code",
      "metadata": {
        "id": "0geGPy83YKcp",
        "colab_type": "code",
        "colab": {
          "base_uri": "https://localhost:8080/",
          "height": 51
        },
        "outputId": "af00cfce-9251-4c37-9984-c8313376aeb1"
      },
      "source": [
        "r=addition(10,20)\n",
        "print(r)\n",
        "s=addition(5)\n",
        "print(s)"
      ],
      "execution_count": null,
      "outputs": [
        {
          "output_type": "stream",
          "text": [
            "30\n",
            "6\n"
          ],
          "name": "stdout"
        }
      ]
    },
    {
      "cell_type": "code",
      "metadata": {
        "id": "5LyHfW5YYOFh",
        "colab_type": "code",
        "colab": {}
      },
      "source": [
        ""
      ],
      "execution_count": null,
      "outputs": []
    }
  ]
}